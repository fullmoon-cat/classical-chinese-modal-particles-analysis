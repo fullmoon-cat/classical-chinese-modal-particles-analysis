{
 "cells": [
  {
   "cell_type": "code",
   "execution_count": 58,
   "id": "ddd2ed10",
   "metadata": {},
   "outputs": [],
   "source": [
    "import pandas as pd\n",
    "import numpy as np\n",
    "import matplotlib.pyplot as plt\n",
    "import os"
   ]
  },
  {
   "cell_type": "markdown",
   "id": "34aa5a77",
   "metadata": {},
   "source": [
    "### Constants"
   ]
  },
  {
   "cell_type": "code",
   "execution_count": 59,
   "id": "6279cc07",
   "metadata": {},
   "outputs": [],
   "source": [
    "metadata_file = './annotations'\n",
    "output_path = './out'\n",
    "source_text_path = './古文原文'\n",
    "\n",
    "function_words = ['也', '哉', '乎', '兮', '夫', '焉', '耶', '者', '矣', '耳', '邪'] # some classical Chinese modal particals\n",
    "punctuations = ['，', '。', '”', '！', '？', '；', '：', '……', '——'] # modern punctuations that can be used to end a clause "
   ]
  },
  {
   "cell_type": "markdown",
   "id": "8d08c828",
   "metadata": {},
   "source": [
    "### Read metadata file"
   ]
  },
  {
   "cell_type": "code",
   "execution_count": 60,
   "id": "d08b85c3",
   "metadata": {},
   "outputs": [],
   "source": [
    "data = []\n",
    "current_genre = None\n",
    "line_number = 0\n",
    "\n",
    "with open(metadata_file, \"r\") as f:\n",
    "    for line in f:\n",
    "        line_number += 1\n",
    "        line = line.strip()\n",
    "        if not line:  # stop reading at the first blank line\n",
    "            break\n",
    "        if line.startswith(\"-\") and line.endswith(\"-\"):  # get genre\n",
    "            current_genre = line.strip(\"-\")\n",
    "        elif current_genre != 'None':\n",
    "            line = line.split(' ')\n",
    "            if len(line) != 3: # detect invalid lines\n",
    "                print(f'invalid input format at line {line_number}')\n",
    "            else: # get info from line\n",
    "                title = line[0]\n",
    "                author = line[1]\n",
    "                time = line[2]\n",
    "                data.append([title, current_genre, author, time])\n",
    "\n",
    "df = pd.DataFrame(data, columns=[\"title\", \"genre\", \"author\", \"time\"])"
   ]
  },
  {
   "cell_type": "code",
   "execution_count": 61,
   "id": "aaf4ce52",
   "metadata": {},
   "outputs": [
    {
     "data": {
      "text/html": [
       "<div>\n",
       "<style scoped>\n",
       "    .dataframe tbody tr th:only-of-type {\n",
       "        vertical-align: middle;\n",
       "    }\n",
       "\n",
       "    .dataframe tbody tr th {\n",
       "        vertical-align: top;\n",
       "    }\n",
       "\n",
       "    .dataframe thead th {\n",
       "        text-align: right;\n",
       "    }\n",
       "</style>\n",
       "<table border=\"1\" class=\"dataframe\">\n",
       "  <thead>\n",
       "    <tr style=\"text-align: right;\">\n",
       "      <th></th>\n",
       "      <th>title</th>\n",
       "      <th>genre</th>\n",
       "      <th>author</th>\n",
       "      <th>time</th>\n",
       "    </tr>\n",
       "  </thead>\n",
       "  <tbody>\n",
       "    <tr>\n",
       "      <th>0</th>\n",
       "      <td>尚书</td>\n",
       "      <td>史书</td>\n",
       "      <td>不详</td>\n",
       "      <td>先秦</td>\n",
       "    </tr>\n",
       "    <tr>\n",
       "      <th>1</th>\n",
       "      <td>左传</td>\n",
       "      <td>史书</td>\n",
       "      <td>左丘明</td>\n",
       "      <td>春秋</td>\n",
       "    </tr>\n",
       "    <tr>\n",
       "      <th>2</th>\n",
       "      <td>战国策</td>\n",
       "      <td>史书</td>\n",
       "      <td>刘向</td>\n",
       "      <td>汉</td>\n",
       "    </tr>\n",
       "    <tr>\n",
       "      <th>3</th>\n",
       "      <td>史记</td>\n",
       "      <td>史书</td>\n",
       "      <td>司马迁</td>\n",
       "      <td>汉</td>\n",
       "    </tr>\n",
       "    <tr>\n",
       "      <th>4</th>\n",
       "      <td>汉书</td>\n",
       "      <td>史书</td>\n",
       "      <td>班固</td>\n",
       "      <td>汉</td>\n",
       "    </tr>\n",
       "  </tbody>\n",
       "</table>\n",
       "</div>"
      ],
      "text/plain": [
       "  title genre author time\n",
       "0    尚书    史书     不详   先秦\n",
       "1    左传    史书    左丘明   春秋\n",
       "2   战国策    史书     刘向    汉\n",
       "3    史记    史书    司马迁    汉\n",
       "4    汉书    史书     班固    汉"
      ]
     },
     "execution_count": 61,
     "metadata": {},
     "output_type": "execute_result"
    }
   ],
   "source": [
    "df[:5]"
   ]
  },
  {
   "cell_type": "markdown",
   "id": "ac40ef20",
   "metadata": {},
   "source": [
    "### Read text"
   ]
  },
  {
   "cell_type": "code",
   "execution_count": 62,
   "id": "d455fe8e",
   "metadata": {},
   "outputs": [],
   "source": [
    "def get_content(title):\n",
    "    content_path = os.path.join(source_text_path, title)\n",
    "    \n",
    "    if not os.path.exists(content_path): # check folder exists\n",
    "        print(f\"folder '{content_path}' not found.\")\n",
    "        return \"\"\n",
    "    \n",
    "    all_text = []\n",
    "    for root, _, files in os.walk(content_path):\n",
    "        for file in files:\n",
    "            if file == \"text.txt\": \n",
    "                file_path = os.path.join(root, file)\n",
    "                try:\n",
    "                    with open(file_path, \"r\", encoding=\"utf-8\") as f:\n",
    "                        all_text.append(f.read())\n",
    "                except Exception as e:\n",
    "                    print(f\"Error reading {file_path}: {e}\")\n",
    "    return \"\\n\".join(all_text) \n",
    "\n",
    "df[\"content\"] = df[\"title\"].apply(get_content)"
   ]
  },
  {
   "cell_type": "code",
   "execution_count": 63,
   "id": "18517a08",
   "metadata": {},
   "outputs": [
    {
     "data": {
      "text/html": [
       "<div>\n",
       "<style scoped>\n",
       "    .dataframe tbody tr th:only-of-type {\n",
       "        vertical-align: middle;\n",
       "    }\n",
       "\n",
       "    .dataframe tbody tr th {\n",
       "        vertical-align: top;\n",
       "    }\n",
       "\n",
       "    .dataframe thead th {\n",
       "        text-align: right;\n",
       "    }\n",
       "</style>\n",
       "<table border=\"1\" class=\"dataframe\">\n",
       "  <thead>\n",
       "    <tr style=\"text-align: right;\">\n",
       "      <th></th>\n",
       "      <th>title</th>\n",
       "      <th>genre</th>\n",
       "      <th>author</th>\n",
       "      <th>time</th>\n",
       "      <th>content</th>\n",
       "    </tr>\n",
       "  </thead>\n",
       "  <tbody>\n",
       "    <tr>\n",
       "      <th>0</th>\n",
       "      <td>尚书</td>\n",
       "      <td>史书</td>\n",
       "      <td>不详</td>\n",
       "      <td>先秦</td>\n",
       "      <td>武王戎车三百两，虎贲三百人，与商战于牧野，作《牧誓》。\\n时甲子昧爽，王朝至于商郊牧野，乃誓...</td>\n",
       "    </tr>\n",
       "    <tr>\n",
       "      <th>1</th>\n",
       "      <td>左传</td>\n",
       "      <td>史书</td>\n",
       "      <td>左丘明</td>\n",
       "      <td>春秋</td>\n",
       "      <td>【经】\\n十有四年春，卫公叔戌来奔。\\n卫赵阳出奔宋。\\n二月辛巳，楚公子结、陈公孙佗人帅师...</td>\n",
       "    </tr>\n",
       "    <tr>\n",
       "      <th>2</th>\n",
       "      <td>战国策</td>\n",
       "      <td>史书</td>\n",
       "      <td>刘向</td>\n",
       "      <td>汉</td>\n",
       "      <td>齐明谓公叔曰： 齐逐几瑟，楚善之。今楚欲善齐甚，公何不令齐王谓楚王： 王为我逐几瑟以穷之。 ...</td>\n",
       "    </tr>\n",
       "    <tr>\n",
       "      <th>3</th>\n",
       "      <td>史记</td>\n",
       "      <td>史书</td>\n",
       "      <td>司马迁</td>\n",
       "      <td>汉</td>\n",
       "      <td>汉兴，接秦之坏，丈夫从军旅，老弱转粮饷，作业剧而财匮，自天子不能具钧驷，而将相或乘牛车，齐民...</td>\n",
       "    </tr>\n",
       "    <tr>\n",
       "      <th>4</th>\n",
       "      <td>汉书</td>\n",
       "      <td>史书</td>\n",
       "      <td>班固</td>\n",
       "      <td>汉</td>\n",
       "      <td>昔仲尼没而微言绝，七十子丧而大义乖。故《春秋》分为五，《诗》分为四，《易》有数家之传。战国从...</td>\n",
       "    </tr>\n",
       "  </tbody>\n",
       "</table>\n",
       "</div>"
      ],
      "text/plain": [
       "  title genre author time                                            content\n",
       "0    尚书    史书     不详   先秦  武王戎车三百两，虎贲三百人，与商战于牧野，作《牧誓》。\\n时甲子昧爽，王朝至于商郊牧野，乃誓...\n",
       "1    左传    史书    左丘明   春秋  【经】\\n十有四年春，卫公叔戌来奔。\\n卫赵阳出奔宋。\\n二月辛巳，楚公子结、陈公孙佗人帅师...\n",
       "2   战国策    史书     刘向    汉  齐明谓公叔曰： 齐逐几瑟，楚善之。今楚欲善齐甚，公何不令齐王谓楚王： 王为我逐几瑟以穷之。 ...\n",
       "3    史记    史书    司马迁    汉  汉兴，接秦之坏，丈夫从军旅，老弱转粮饷，作业剧而财匮，自天子不能具钧驷，而将相或乘牛车，齐民...\n",
       "4    汉书    史书     班固    汉  昔仲尼没而微言绝，七十子丧而大义乖。故《春秋》分为五，《诗》分为四，《易》有数家之传。战国从..."
      ]
     },
     "execution_count": 63,
     "metadata": {},
     "output_type": "execute_result"
    }
   ],
   "source": [
    "df[:5]"
   ]
  },
  {
   "cell_type": "markdown",
   "id": "ffd54198",
   "metadata": {},
   "source": [
    "### Get stats"
   ]
  },
  {
   "cell_type": "code",
   "execution_count": 64,
   "id": "006f6a48",
   "metadata": {},
   "outputs": [],
   "source": [
    "def analyze_text(text):\n",
    "    total_chars = len(text) \n",
    "    function_word_counts = {word: 0 for word in function_words}\n",
    "    function_word_end_counts = {word: 0 for word in function_words}\n",
    "    total_function_words = 0\n",
    "    total_function_words_at_end = 0\n",
    "    \n",
    "    # iterate over text\n",
    "    for i, char in enumerate(text):\n",
    "        if char in function_words: # if is a function word\n",
    "            function_word_counts[char] += 1\n",
    "            total_function_words += 1\n",
    "            # check if it's followed by a punctuation mark (i.e., at the end of a clause)\n",
    "            if i < len(text) - 1 and text[i + 1] in punctuations:\n",
    "                function_word_end_counts[char] += 1\n",
    "                total_function_words_at_end += 1\n",
    "    \n",
    "    # frequency of function words\n",
    "    function_words_frequency_all = (\n",
    "        total_function_words_at_end / total_chars if total_chars > 0 else 0.0\n",
    "    )\n",
    "\n",
    "    # fraction of function words at clause endings\n",
    "    fraction_function_words_at_end_all = (\n",
    "        total_function_words_at_end / total_function_words if total_function_words > 0 else 0.0\n",
    "    )\n",
    "\n",
    "    # frequency of each function words\n",
    "    function_words_frequency_each = (\n",
    "        (function_word_end_counts[word] / total_chars) if total_chars > 0 else 0.0\n",
    "        for word in function_words\n",
    "    )\n",
    "\n",
    "    # fraction of each function word at clause endings\n",
    "    fraction_function_words_at_end_each = [\n",
    "        (function_word_end_counts[word] / function_word_counts[word]) if function_word_counts[word] > 0 else 0.0\n",
    "        for word in function_words\n",
    "    ]\n",
    "\n",
    "    result = [total_chars, total_function_words, function_words_frequency_all, fraction_function_words_at_end_all]\n",
    "    result += [function_word_counts[word] for word in function_words]\n",
    "    result += function_words_frequency_each\n",
    "    result += fraction_function_words_at_end_each\n",
    "\n",
    "    return result\n",
    "\n",
    "new_columns = [\"total_chars\", \"total_function_words\", \"total_function_words_frequency\", \"fraction_function_words_at_end\"]\n",
    "new_columns += [f\"{word}_count\" for word in function_words]\n",
    "new_columns += [f\"{word}_frequency\" for word in function_words]\n",
    "new_columns += [f\"{word}_fraction_at_end\" for word in function_words]\n",
    "\n",
    "df[new_columns] = df[\"content\"].apply(lambda text: pd.Series(analyze_text(text)))"
   ]
  },
  {
   "cell_type": "code",
   "execution_count": 65,
   "id": "ee8a29ef",
   "metadata": {},
   "outputs": [
    {
     "data": {
      "text/plain": [
       "Index(['title', 'genre', 'author', 'time', 'content', 'total_chars',\n",
       "       'total_function_words', 'total_function_words_frequency',\n",
       "       'fraction_function_words_at_end', '也_count', '哉_count', '乎_count',\n",
       "       '兮_count', '夫_count', '焉_count', '耶_count', '者_count', '矣_count',\n",
       "       '耳_count', '邪_count', '也_frequency', '哉_frequency', '乎_frequency',\n",
       "       '兮_frequency', '夫_frequency', '焉_frequency', '耶_frequency',\n",
       "       '者_frequency', '矣_frequency', '耳_frequency', '邪_frequency',\n",
       "       '也_fraction_at_end', '哉_fraction_at_end', '乎_fraction_at_end',\n",
       "       '兮_fraction_at_end', '夫_fraction_at_end', '焉_fraction_at_end',\n",
       "       '耶_fraction_at_end', '者_fraction_at_end', '矣_fraction_at_end',\n",
       "       '耳_fraction_at_end', '邪_fraction_at_end'],\n",
       "      dtype='object')"
      ]
     },
     "execution_count": 65,
     "metadata": {},
     "output_type": "execute_result"
    }
   ],
   "source": [
    "df.columns"
   ]
  },
  {
   "cell_type": "code",
   "execution_count": 69,
   "id": "eaedff8f",
   "metadata": {},
   "outputs": [],
   "source": [
    "df.loc[:, df.columns != 'content'].to_csv('./out/stats.csv', index=False)"
   ]
  }
 ],
 "metadata": {
  "kernelspec": {
   "display_name": ".venv",
   "language": "python",
   "name": "python3"
  },
  "language_info": {
   "codemirror_mode": {
    "name": "ipython",
    "version": 3
   },
   "file_extension": ".py",
   "mimetype": "text/x-python",
   "name": "python",
   "nbconvert_exporter": "python",
   "pygments_lexer": "ipython3",
   "version": "3.11.4"
  }
 },
 "nbformat": 4,
 "nbformat_minor": 5
}
